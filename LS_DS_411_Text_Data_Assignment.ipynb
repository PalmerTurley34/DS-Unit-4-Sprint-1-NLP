{
 "cells": [
  {
   "cell_type": "markdown",
   "metadata": {},
   "source": [
    "<img align=\"left\" src=\"https://lever-client-logos.s3.amazonaws.com/864372b1-534c-480e-acd5-9711f850815c-1524247202159.png\" width=200>\n",
    "<br></br>\n",
    "<br></br>\n",
    "\n",
    "# Natural Language Processing (NLP)\n",
    "## *Data Science Unit 4 Sprint 1 Assignment 1*\n",
    "\n",
    "Your goal in this assignment: find the attributes of the best & worst coffee shops in the dataset. The text is fairly raw: dates in the review, extra words in the `star_rating` column, etc. You'll probably want to clean that stuff up for a better analysis. \n",
    "\n",
    "Analyze the corpus of text using text visualizations of token frequency. Try cleaning the data as much as possible. Try the following techniques: \n",
    "- Lemmatization\n",
    "- Custom stopword removal\n",
    "\n",
    "Keep in mind the attributes of good tokens. Once you have a solid baseline, layer in the star rating in your visualization(s). Key part of this assignment - produce a write-up of the attributes of the best and worst coffee shops. Based on your analysis, what makes the best the best and the worst the worst. Use graphs and numbesr from your analysis to support your conclusions. There should be plenty of markdown cells! :coffee:"
   ]
  },
  {
   "cell_type": "code",
   "execution_count": 1,
   "metadata": {},
   "outputs": [
    {
     "data": {
      "image/jpeg": "[encoded data removed]",
      "text/html": [
       "\n",
       "        <iframe\n",
       "            width=\"400\"\n",
       "            height=\"300\"\n",
       "            src=\"https://www.youtube.com/embed/Jml7NVYm8cs\"\n",
       "            frameborder=\"0\"\n",
       "            allowfullscreen\n",
       "        ></iframe>\n",
       "        "
      ],
      "text/plain": [
       "<IPython.lib.display.YouTubeVideo at 0x1afc15a60f0>"
      ]
     },
     "execution_count": 1,
     "metadata": {},
     "output_type": "execute_result"
    }
   ],
   "source": [
    "from IPython.display import YouTubeVideo\n",
    "\n",
    "YouTubeVideo('Jml7NVYm8cs')"
   ]
  },
  {
   "cell_type": "code",
   "execution_count": 1,
   "metadata": {},
   "outputs": [
    {
     "data": {
      "text/plain": [
       "'C:\\\\Users\\\\bayma\\\\Desktop\\\\Lambda_School\\\\Unit 4\\\\Sprint 1\\\\module 1\\\\DS-Unit-4-Sprint-1-NLP\\\\module1-text-data'"
      ]
     },
     "execution_count": 1,
     "metadata": {},
     "output_type": "execute_result"
    }
   ],
   "source": [
    "%pwd"
   ]
  },
  {
   "cell_type": "code",
   "execution_count": 2,
   "metadata": {},
   "outputs": [
    {
     "data": {
      "text/html": [
       "<div>\n",
       "<style scoped>\n",
       "    .dataframe tbody tr th:only-of-type {\n",
       "        vertical-align: middle;\n",
       "    }\n",
       "\n",
       "    .dataframe tbody tr th {\n",
       "        vertical-align: top;\n",
       "    }\n",
       "\n",
       "    .dataframe thead th {\n",
       "        text-align: right;\n",
       "    }\n",
       "</style>\n",
       "<table border=\"1\" class=\"dataframe\">\n",
       "  <thead>\n",
       "    <tr style=\"text-align: right;\">\n",
       "      <th></th>\n",
       "      <th>coffee_shop_name</th>\n",
       "      <th>full_review_text</th>\n",
       "      <th>star_rating</th>\n",
       "    </tr>\n",
       "  </thead>\n",
       "  <tbody>\n",
       "    <tr>\n",
       "      <th>0</th>\n",
       "      <td>The Factory - Cafe With a Soul</td>\n",
       "      <td>11/25/2016 1 check-in Love love loved the atm...</td>\n",
       "      <td>5.0 star rating</td>\n",
       "    </tr>\n",
       "    <tr>\n",
       "      <th>1</th>\n",
       "      <td>The Factory - Cafe With a Soul</td>\n",
       "      <td>12/2/2016 Listed in Date Night: Austin, Ambia...</td>\n",
       "      <td>4.0 star rating</td>\n",
       "    </tr>\n",
       "    <tr>\n",
       "      <th>2</th>\n",
       "      <td>The Factory - Cafe With a Soul</td>\n",
       "      <td>11/30/2016 1 check-in Listed in Brunch Spots ...</td>\n",
       "      <td>4.0 star rating</td>\n",
       "    </tr>\n",
       "    <tr>\n",
       "      <th>3</th>\n",
       "      <td>The Factory - Cafe With a Soul</td>\n",
       "      <td>11/25/2016 Very cool decor! Good drinks Nice ...</td>\n",
       "      <td>2.0 star rating</td>\n",
       "    </tr>\n",
       "    <tr>\n",
       "      <th>4</th>\n",
       "      <td>The Factory - Cafe With a Soul</td>\n",
       "      <td>12/3/2016 1 check-in They are located within ...</td>\n",
       "      <td>4.0 star rating</td>\n",
       "    </tr>\n",
       "  </tbody>\n",
       "</table>\n",
       "</div>"
      ],
      "text/plain": [
       "                  coffee_shop_name  \\\n",
       "0  The Factory - Cafe With a Soul    \n",
       "1  The Factory - Cafe With a Soul    \n",
       "2  The Factory - Cafe With a Soul    \n",
       "3  The Factory - Cafe With a Soul    \n",
       "4  The Factory - Cafe With a Soul    \n",
       "\n",
       "                                    full_review_text        star_rating  \n",
       "0   11/25/2016 1 check-in Love love loved the atm...   5.0 star rating   \n",
       "1   12/2/2016 Listed in Date Night: Austin, Ambia...   4.0 star rating   \n",
       "2   11/30/2016 1 check-in Listed in Brunch Spots ...   4.0 star rating   \n",
       "3   11/25/2016 Very cool decor! Good drinks Nice ...   2.0 star rating   \n",
       "4   12/3/2016 1 check-in They are located within ...   4.0 star rating   "
      ]
     },
     "execution_count": 2,
     "metadata": {},
     "output_type": "execute_result"
    }
   ],
   "source": [
    "import pandas as pd\n",
    "\n",
    "url = \"https://raw.githubusercontent.com/LambdaSchool/DS-Unit-4-Sprint-1-NLP/main/module1-text-data/data/yelp_coffeeshop_review_data.csv\"\n",
    "\n",
    "shops = pd.read_csv(url)\n",
    "shops.head()"
   ]
  },
  {
   "cell_type": "code",
   "execution_count": 12,
   "metadata": {},
   "outputs": [],
   "source": [
    "shops['star_rating'] = shops['star_rating'].apply(lambda x: float(x.strip(' star rating')))"
   ]
  },
  {
   "cell_type": "code",
   "execution_count": 23,
   "metadata": {},
   "outputs": [],
   "source": [
    "shops['full_review_text'] = shops['full_review_text'].apply(lambda x: x.strip(' 1234567890/'))"
   ]
  },
  {
   "cell_type": "code",
   "execution_count": 29,
   "metadata": {},
   "outputs": [],
   "source": [
    "import spacy\n",
    "from spacy.tokenizer import Tokenizer\n",
    "\n",
    "nlp = spacy.load(\"en_core_web_lg\")\n",
    "\n",
    "# Tokenizer\n",
    "tokenizer = Tokenizer(nlp.vocab)"
   ]
  },
  {
   "cell_type": "code",
   "execution_count": 30,
   "metadata": {},
   "outputs": [],
   "source": [
    "tokens = []\n",
    "\n",
    "for doc in tokenizer.pipe(shops['full_review_text'], batch_size=500):\n",
    "    doc_tokens = [token.text for token in doc]\n",
    "    tokens.append(doc_tokens)\n",
    "\n",
    "shops['tokens'] = tokens"
   ]
  },
  {
   "cell_type": "code",
   "execution_count": 31,
   "metadata": {},
   "outputs": [
    {
     "data": {
      "text/plain": [
       "0    [check-in, Love, love, loved, the, atmosphere!...\n",
       "1    [Listed, in, Date, Night:, Austin,, Ambiance, ...\n",
       "2    [check-in, Listed, in, Brunch, Spots, I, loved...\n",
       "3    [Very, cool, decor!, Good, drinks, Nice, seati...\n",
       "4    [check-in, They, are, located, within, the, No...\n",
       "Name: tokens, dtype: object"
      ]
     },
     "execution_count": 31,
     "metadata": {},
     "output_type": "execute_result"
    }
   ],
   "source": [
    "shops['tokens'].head()"
   ]
  },
  {
   "cell_type": "markdown",
   "metadata": {},
   "source": [
    "## How do we want to analyze these coffee shop tokens? \n",
    "\n",
    "- Overall Word / Token Count\n",
    "- View Counts by Rating \n",
    "- *Hint:* a 'bad' coffee shops has a rating betweeen 1 & 3 based on the distribution of ratings. A 'good' coffee shop is a 4 or 5. "
   ]
  },
  {
   "cell_type": "code",
   "execution_count": 34,
   "metadata": {},
   "outputs": [],
   "source": [
    "good_reviews = shops[shops['star_rating']>=4.0]\n",
    "bad_reviews = shops[shops['star_rating']<4.0]"
   ]
  },
  {
   "cell_type": "code",
   "execution_count": 35,
   "metadata": {},
   "outputs": [
    {
     "name": "stdout",
     "output_type": "stream",
     "text": [
      "Total 7616\n",
      "Good Reviews: 6140\n",
      "Bad Reviews: 1476\n"
     ]
    }
   ],
   "source": [
    "print('Total',len(shops))\n",
    "print('Good Reviews:',len(good_reviews))\n",
    "print('Bad Reviews:',len(bad_reviews))"
   ]
  },
  {
   "cell_type": "code",
   "execution_count": 41,
   "metadata": {},
   "outputs": [
    {
     "name": "stdout",
     "output_type": "stream",
     "text": [
      "Most Common words: \n",
      " [('the', 27779), ('and', 25748), ('a', 22085), ('I', 19780), ('to', 16904), (' ', 14988), ('of', 12495), ('is', 11748), ('was', 9539), ('in', 8901)] \n",
      "\n",
      "Most Common in Good Reviews \n",
      " [('the', 21090), ('and', 20582), ('a', 17166), ('I', 14602), ('to', 12581), (' ', 11625), ('of', 9851), ('is', 9468), ('in', 7013), ('was', 6669)] \n",
      "\n",
      "Most Common in Bad Reviews \n",
      " [('the', 6689), ('I', 5178), ('and', 5166), ('a', 4919), ('to', 4323), (' ', 3363), ('was', 2870), ('of', 2644), ('is', 2280), ('for', 1976)] \n",
      "\n"
     ]
    }
   ],
   "source": [
    "from collections import Counter\n",
    "total_counts = Counter()\n",
    "good_counts = Counter()\n",
    "bad_counts = Counter()\n",
    "shops['tokens'].apply(lambda x: total_counts.update(x))\n",
    "good_reviews['tokens'].apply(lambda x: good_counts.update(x))\n",
    "bad_reviews['tokens'].apply(lambda x: bad_counts.update(x))\n",
    "\n",
    "print('Most Common words:', '\\n', total_counts.most_common(10), '\\n')\n",
    "print('Most Common in Good Reviews', '\\n', good_counts.most_common(10), '\\n')\n",
    "print('Most Common in Bad Reviews', '\\n', bad_counts.most_common(10), '\\n')"
   ]
  },
  {
   "cell_type": "markdown",
   "metadata": {},
   "source": [
    "The word counts seem to be pretty similar so far. I'll take out stop words and see if that changes anything."
   ]
  },
  {
   "cell_type": "code",
   "execution_count": 42,
   "metadata": {},
   "outputs": [],
   "source": [
    "# take count function from lecture\n",
    "def count(docs):\n",
    "\n",
    "        word_counts = Counter()\n",
    "        appears_in = Counter()\n",
    "        \n",
    "        total_docs = len(docs)\n",
    "\n",
    "        for doc in docs:\n",
    "            word_counts.update(doc)\n",
    "            appears_in.update(set(doc))\n",
    "\n",
    "        temp = zip(word_counts.keys(), word_counts.values())\n",
    "        \n",
    "        wc = pd.DataFrame(temp, columns = ['word', 'count'])\n",
    "\n",
    "        wc['rank'] = wc['count'].rank(method='first', ascending=False)\n",
    "        total = wc['count'].sum()\n",
    "\n",
    "        wc['pct_total'] = wc['count'].apply(lambda x: x / total)\n",
    "        \n",
    "        wc = wc.sort_values(by='rank')\n",
    "        wc['cul_pct_total'] = wc['pct_total'].cumsum()\n",
    "\n",
    "        t2 = zip(appears_in.keys(), appears_in.values())\n",
    "        ac = pd.DataFrame(t2, columns=['word', 'appears_in'])\n",
    "        wc = ac.merge(wc, on='word')\n",
    "\n",
    "        wc['appears_in_pct'] = wc['appears_in'].apply(lambda x: x / total_docs)\n",
    "        \n",
    "        return wc.sort_values(by='rank')"
   ]
  },
  {
   "cell_type": "code",
   "execution_count": 44,
   "metadata": {},
   "outputs": [],
   "source": [
    "total = count(shops['tokens'])\n",
    "good = count(good_reviews['tokens'])\n",
    "bad = count(bad_reviews['tokens'])"
   ]
  },
  {
   "cell_type": "markdown",
   "metadata": {},
   "source": [
    "Remove Stop Words"
   ]
  },
  {
   "cell_type": "code",
   "execution_count": 90,
   "metadata": {},
   "outputs": [],
   "source": [
    "STOP_WORDS = nlp.Defaults.stop_words.union([' ', \"it's\", \"i'm\", \"i've\", \"don't\", 'like', \n",
    "                                            'good', 'great', 'coffee', 'place', 'love',\n",
    "                                            'got', 'definitely', 'pretty', 'check-in',\n",
    "                                            'best', 'austin'])"
   ]
  },
  {
   "cell_type": "code",
   "execution_count": 91,
   "metadata": {},
   "outputs": [],
   "source": [
    "tokens = []\n",
    "\n",
    "for doc in tokenizer.pipe(shops['full_review_text'], batch_size=500):\n",
    "    doc_tokens = []\n",
    "    for token in doc:\n",
    "        if (token.text.lower() not in STOP_WORDS) & (token.is_punct == False):\n",
    "            doc_tokens.append(token.text.lower())\n",
    "            \n",
    "    tokens.append(doc_tokens)\n",
    "shops['tokens'] = tokens"
   ]
  },
  {
   "cell_type": "code",
   "execution_count": 92,
   "metadata": {},
   "outputs": [],
   "source": [
    "good_reviews = shops[shops['star_rating']>=4.0]\n",
    "bad_reviews = shops[shops['star_rating']<4.0]"
   ]
  },
  {
   "cell_type": "code",
   "execution_count": 93,
   "metadata": {},
   "outputs": [],
   "source": [
    "total = count(shops['tokens'])\n",
    "good = count(good_reviews['tokens'])\n",
    "bad = count(bad_reviews['tokens'])"
   ]
  },
  {
   "cell_type": "code",
   "execution_count": 94,
   "metadata": {},
   "outputs": [
    {
     "data": {
      "image/png": "[encoded data removed]",
      "text/plain": [
       "<Figure size 432x288 with 1 Axes>"
      ]
     },
     "metadata": {
      "needs_background": "light"
     },
     "output_type": "display_data"
    }
   ],
   "source": [
    "# top ten words in total\n",
    "import squarify\n",
    "import matplotlib.pyplot as plt\n",
    "\n",
    "total_top10 = total[total['rank']<=10]\n",
    "\n",
    "squarify.plot(sizes=total_top10['pct_total'], label=total_top10['word'])\n",
    "plt.axis('off')\n",
    "plt.show()"
   ]
  },
  {
   "cell_type": "code",
   "execution_count": 95,
   "metadata": {},
   "outputs": [
    {
     "data": {
      "image/png": "[encoded data removed]",
      "text/plain": [
       "<Figure size 432x288 with 1 Axes>"
      ]
     },
     "metadata": {
      "needs_background": "light"
     },
     "output_type": "display_data"
    }
   ],
   "source": [
    "# top five words in good reviews\n",
    "\n",
    "good_top5 = good[good['rank']<=5]\n",
    "\n",
    "squarify.plot(sizes=good_top5['pct_total'], label=good_top5['word'])\n",
    "plt.axis('off')\n",
    "plt.show()"
   ]
  },
  {
   "cell_type": "code",
   "execution_count": 96,
   "metadata": {},
   "outputs": [
    {
     "data": {
      "image/png": "[encoded data removed]",
      "text/plain": [
       "<Figure size 432x288 with 1 Axes>"
      ]
     },
     "metadata": {
      "needs_background": "light"
     },
     "output_type": "display_data"
    }
   ],
   "source": [
    "# top five words in bad reviews\n",
    "\n",
    "bad_top5 = bad[bad['rank']<=5]\n",
    "\n",
    "squarify.plot(sizes=bad_top5['pct_total'], label=bad_top5['word'])\n",
    "plt.axis('off')\n",
    "plt.show()"
   ]
  },
  {
   "cell_type": "markdown",
   "metadata": {},
   "source": [
    "Both good and bad reviews seem to mention the overall quality of sevrvie. Time, people, service come up a lot in both categories."
   ]
  },
  {
   "cell_type": "markdown",
   "metadata": {},
   "source": [
    "## Can visualize the words with the greatest difference in counts between 'good' & 'bad'?\n",
    "\n",
    "Couple Notes: \n",
    "- Rel. freq. instead of absolute counts b/c of different numbers of reviews\n",
    "- Only look at the top 5-10 words with the greatest differences\n"
   ]
  },
  {
   "cell_type": "code",
   "execution_count": 137,
   "metadata": {},
   "outputs": [
    {
     "data": {
      "text/html": [
       "<div>\n",
       "<style scoped>\n",
       "    .dataframe tbody tr th:only-of-type {\n",
       "        vertical-align: middle;\n",
       "    }\n",
       "\n",
       "    .dataframe tbody tr th {\n",
       "        vertical-align: top;\n",
       "    }\n",
       "\n",
       "    .dataframe thead th {\n",
       "        text-align: right;\n",
       "    }\n",
       "</style>\n",
       "<table border=\"1\" class=\"dataframe\">\n",
       "  <thead>\n",
       "    <tr style=\"text-align: right;\">\n",
       "      <th></th>\n",
       "      <th>word</th>\n",
       "      <th>appears_in</th>\n",
       "      <th>count</th>\n",
       "      <th>rank</th>\n",
       "      <th>pct_total</th>\n",
       "      <th>cul_pct_total</th>\n",
       "      <th>appears_in_pct</th>\n",
       "    </tr>\n",
       "  </thead>\n",
       "  <tbody>\n",
       "    <tr>\n",
       "      <th>590</th>\n",
       "      <td>little</td>\n",
       "      <td>1027</td>\n",
       "      <td>1230</td>\n",
       "      <td>1.0</td>\n",
       "      <td>0.004536</td>\n",
       "      <td>0.004536</td>\n",
       "      <td>0.167264</td>\n",
       "    </tr>\n",
       "    <tr>\n",
       "      <th>150</th>\n",
       "      <td>friendly</td>\n",
       "      <td>986</td>\n",
       "      <td>1014</td>\n",
       "      <td>3.0</td>\n",
       "      <td>0.003740</td>\n",
       "      <td>0.012336</td>\n",
       "      <td>0.160586</td>\n",
       "    </tr>\n",
       "    <tr>\n",
       "      <th>203</th>\n",
       "      <td>nice</td>\n",
       "      <td>962</td>\n",
       "      <td>1101</td>\n",
       "      <td>2.0</td>\n",
       "      <td>0.004060</td>\n",
       "      <td>0.008596</td>\n",
       "      <td>0.156678</td>\n",
       "    </tr>\n",
       "    <tr>\n",
       "      <th>327</th>\n",
       "      <td>check-ins</td>\n",
       "      <td>929</td>\n",
       "      <td>930</td>\n",
       "      <td>7.0</td>\n",
       "      <td>0.003430</td>\n",
       "      <td>0.026597</td>\n",
       "      <td>0.151303</td>\n",
       "    </tr>\n",
       "    <tr>\n",
       "      <th>450</th>\n",
       "      <td>time</td>\n",
       "      <td>835</td>\n",
       "      <td>994</td>\n",
       "      <td>5.0</td>\n",
       "      <td>0.003666</td>\n",
       "      <td>0.019668</td>\n",
       "      <td>0.135993</td>\n",
       "    </tr>\n",
       "    <tr>\n",
       "      <th>...</th>\n",
       "      <td>...</td>\n",
       "      <td>...</td>\n",
       "      <td>...</td>\n",
       "      <td>...</td>\n",
       "      <td>...</td>\n",
       "      <td>...</td>\n",
       "      <td>...</td>\n",
       "    </tr>\n",
       "    <tr>\n",
       "      <th>16615</th>\n",
       "      <td>condescending.</td>\n",
       "      <td>1</td>\n",
       "      <td>1</td>\n",
       "      <td>20375.0</td>\n",
       "      <td>0.000004</td>\n",
       "      <td>0.954204</td>\n",
       "      <td>0.000163</td>\n",
       "    </tr>\n",
       "    <tr>\n",
       "      <th>16614</th>\n",
       "      <td>essence.</td>\n",
       "      <td>1</td>\n",
       "      <td>1</td>\n",
       "      <td>20374.0</td>\n",
       "      <td>0.000004</td>\n",
       "      <td>0.954200</td>\n",
       "      <td>0.000163</td>\n",
       "    </tr>\n",
       "    <tr>\n",
       "      <th>16619</th>\n",
       "      <td>giraffe</td>\n",
       "      <td>1</td>\n",
       "      <td>1</td>\n",
       "      <td>20373.0</td>\n",
       "      <td>0.000004</td>\n",
       "      <td>0.954196</td>\n",
       "      <td>0.000163</td>\n",
       "    </tr>\n",
       "    <tr>\n",
       "      <th>16623</th>\n",
       "      <td>tabacco,</td>\n",
       "      <td>1</td>\n",
       "      <td>1</td>\n",
       "      <td>20372.0</td>\n",
       "      <td>0.000004</td>\n",
       "      <td>0.954193</td>\n",
       "      <td>0.000163</td>\n",
       "    </tr>\n",
       "    <tr>\n",
       "      <th>32791</th>\n",
       "      <td>digestion,</td>\n",
       "      <td>1</td>\n",
       "      <td>1</td>\n",
       "      <td>32793.0</td>\n",
       "      <td>0.000004</td>\n",
       "      <td>1.000000</td>\n",
       "      <td>0.000163</td>\n",
       "    </tr>\n",
       "  </tbody>\n",
       "</table>\n",
       "<p>32793 rows × 7 columns</p>\n",
       "</div>"
      ],
      "text/plain": [
       "                 word  appears_in  count     rank  pct_total  cul_pct_total  \\\n",
       "590            little        1027   1230      1.0   0.004536       0.004536   \n",
       "150          friendly         986   1014      3.0   0.003740       0.012336   \n",
       "203              nice         962   1101      2.0   0.004060       0.008596   \n",
       "327         check-ins         929    930      7.0   0.003430       0.026597   \n",
       "450              time         835    994      5.0   0.003666       0.019668   \n",
       "...               ...         ...    ...      ...        ...            ...   \n",
       "16615  condescending.           1      1  20375.0   0.000004       0.954204   \n",
       "16614        essence.           1      1  20374.0   0.000004       0.954200   \n",
       "16619         giraffe           1      1  20373.0   0.000004       0.954196   \n",
       "16623        tabacco,           1      1  20372.0   0.000004       0.954193   \n",
       "32791      digestion,           1      1  32793.0   0.000004       1.000000   \n",
       "\n",
       "       appears_in_pct  \n",
       "590          0.167264  \n",
       "150          0.160586  \n",
       "203          0.156678  \n",
       "327          0.151303  \n",
       "450          0.135993  \n",
       "...               ...  \n",
       "16615        0.000163  \n",
       "16614        0.000163  \n",
       "16619        0.000163  \n",
       "16623        0.000163  \n",
       "32791        0.000163  \n",
       "\n",
       "[32793 rows x 7 columns]"
      ]
     },
     "execution_count": 137,
     "metadata": {},
     "output_type": "execute_result"
    }
   ],
   "source": [
    "good.sort_values(by='appears_in_pct', ascending=False)"
   ]
  },
  {
   "cell_type": "code",
   "execution_count": 138,
   "metadata": {},
   "outputs": [
    {
     "data": {
      "text/html": [
       "<div>\n",
       "<style scoped>\n",
       "    .dataframe tbody tr th:only-of-type {\n",
       "        vertical-align: middle;\n",
       "    }\n",
       "\n",
       "    .dataframe tbody tr th {\n",
       "        vertical-align: top;\n",
       "    }\n",
       "\n",
       "    .dataframe thead th {\n",
       "        text-align: right;\n",
       "    }\n",
       "</style>\n",
       "<table border=\"1\" class=\"dataframe\">\n",
       "  <thead>\n",
       "    <tr style=\"text-align: right;\">\n",
       "      <th></th>\n",
       "      <th>word</th>\n",
       "      <th>appears_in</th>\n",
       "      <th>count</th>\n",
       "      <th>rank</th>\n",
       "      <th>pct_total</th>\n",
       "      <th>cul_pct_total</th>\n",
       "      <th>appears_in_pct</th>\n",
       "    </tr>\n",
       "  </thead>\n",
       "  <tbody>\n",
       "    <tr>\n",
       "      <th>127</th>\n",
       "      <td>food</td>\n",
       "      <td>266</td>\n",
       "      <td>369</td>\n",
       "      <td>1.0</td>\n",
       "      <td>0.004693</td>\n",
       "      <td>0.004693</td>\n",
       "      <td>0.180217</td>\n",
       "    </tr>\n",
       "    <tr>\n",
       "      <th>212</th>\n",
       "      <td>time</td>\n",
       "      <td>264</td>\n",
       "      <td>351</td>\n",
       "      <td>2.0</td>\n",
       "      <td>0.004464</td>\n",
       "      <td>0.009157</td>\n",
       "      <td>0.178862</td>\n",
       "    </tr>\n",
       "    <tr>\n",
       "      <th>1</th>\n",
       "      <td>service</td>\n",
       "      <td>261</td>\n",
       "      <td>314</td>\n",
       "      <td>4.0</td>\n",
       "      <td>0.003993</td>\n",
       "      <td>0.017309</td>\n",
       "      <td>0.176829</td>\n",
       "    </tr>\n",
       "    <tr>\n",
       "      <th>516</th>\n",
       "      <td>people</td>\n",
       "      <td>247</td>\n",
       "      <td>327</td>\n",
       "      <td>3.0</td>\n",
       "      <td>0.004159</td>\n",
       "      <td>0.013315</td>\n",
       "      <td>0.167344</td>\n",
       "    </tr>\n",
       "    <tr>\n",
       "      <th>363</th>\n",
       "      <td>ordered</td>\n",
       "      <td>240</td>\n",
       "      <td>296</td>\n",
       "      <td>5.0</td>\n",
       "      <td>0.003764</td>\n",
       "      <td>0.021073</td>\n",
       "      <td>0.162602</td>\n",
       "    </tr>\n",
       "    <tr>\n",
       "      <th>...</th>\n",
       "      <td>...</td>\n",
       "      <td>...</td>\n",
       "      <td>...</td>\n",
       "      <td>...</td>\n",
       "      <td>...</td>\n",
       "      <td>...</td>\n",
       "      <td>...</td>\n",
       "    </tr>\n",
       "    <tr>\n",
       "      <th>7857</th>\n",
       "      <td>mode.</td>\n",
       "      <td>1</td>\n",
       "      <td>1</td>\n",
       "      <td>9454.0</td>\n",
       "      <td>0.000013</td>\n",
       "      <td>0.922575</td>\n",
       "      <td>0.000678</td>\n",
       "    </tr>\n",
       "    <tr>\n",
       "      <th>7858</th>\n",
       "      <td>robot</td>\n",
       "      <td>1</td>\n",
       "      <td>1</td>\n",
       "      <td>9453.0</td>\n",
       "      <td>0.000013</td>\n",
       "      <td>0.922562</td>\n",
       "      <td>0.000678</td>\n",
       "    </tr>\n",
       "    <tr>\n",
       "      <th>7852</th>\n",
       "      <td>provide,</td>\n",
       "      <td>1</td>\n",
       "      <td>1</td>\n",
       "      <td>9452.0</td>\n",
       "      <td>0.000013</td>\n",
       "      <td>0.922550</td>\n",
       "      <td>0.000678</td>\n",
       "    </tr>\n",
       "    <tr>\n",
       "      <th>7866</th>\n",
       "      <td>girth.</td>\n",
       "      <td>1</td>\n",
       "      <td>1</td>\n",
       "      <td>9451.0</td>\n",
       "      <td>0.000013</td>\n",
       "      <td>0.922537</td>\n",
       "      <td>0.000678</td>\n",
       "    </tr>\n",
       "    <tr>\n",
       "      <th>15541</th>\n",
       "      <td>enthusiast</td>\n",
       "      <td>1</td>\n",
       "      <td>1</td>\n",
       "      <td>15542.0</td>\n",
       "      <td>0.000013</td>\n",
       "      <td>1.000000</td>\n",
       "      <td>0.000678</td>\n",
       "    </tr>\n",
       "  </tbody>\n",
       "</table>\n",
       "<p>15542 rows × 7 columns</p>\n",
       "</div>"
      ],
      "text/plain": [
       "             word  appears_in  count     rank  pct_total  cul_pct_total  \\\n",
       "127          food         266    369      1.0   0.004693       0.004693   \n",
       "212          time         264    351      2.0   0.004464       0.009157   \n",
       "1         service         261    314      4.0   0.003993       0.017309   \n",
       "516        people         247    327      3.0   0.004159       0.013315   \n",
       "363       ordered         240    296      5.0   0.003764       0.021073   \n",
       "...           ...         ...    ...      ...        ...            ...   \n",
       "7857        mode.           1      1   9454.0   0.000013       0.922575   \n",
       "7858        robot           1      1   9453.0   0.000013       0.922562   \n",
       "7852     provide,           1      1   9452.0   0.000013       0.922550   \n",
       "7866       girth.           1      1   9451.0   0.000013       0.922537   \n",
       "15541  enthusiast           1      1  15542.0   0.000013       1.000000   \n",
       "\n",
       "       appears_in_pct  \n",
       "127          0.180217  \n",
       "212          0.178862  \n",
       "1            0.176829  \n",
       "516          0.167344  \n",
       "363          0.162602  \n",
       "...               ...  \n",
       "7857         0.000678  \n",
       "7858         0.000678  \n",
       "7852         0.000678  \n",
       "7866         0.000678  \n",
       "15541        0.000678  \n",
       "\n",
       "[15542 rows x 7 columns]"
      ]
     },
     "execution_count": 138,
     "metadata": {},
     "output_type": "execute_result"
    }
   ],
   "source": [
    "bad.sort_values(by='appears_in_pct', ascending=False)"
   ]
  },
  {
   "cell_type": "code",
   "execution_count": 145,
   "metadata": {},
   "outputs": [],
   "source": [
    "good['pct_in_good'] = good['pct_total']\n",
    "bad['pct_in_bad'] = bad['pct_total']"
   ]
  },
  {
   "cell_type": "code",
   "execution_count": 147,
   "metadata": {},
   "outputs": [],
   "source": [
    "good_words = good[['word', 'pct_in_good']]\n",
    "bad_words = bad[['word', 'pct_in_bad']]\n",
    "\n",
    "df = good_words.merge(bad_words, how='outer', on='word')"
   ]
  },
  {
   "cell_type": "code",
   "execution_count": 152,
   "metadata": {},
   "outputs": [],
   "source": [
    "import numpy as np\n",
    "df = df.replace(np.nan, 0)"
   ]
  },
  {
   "cell_type": "code",
   "execution_count": 155,
   "metadata": {},
   "outputs": [],
   "source": [
    "df['difference'] = df['pct_in_good'] - df['pct_in_bad']"
   ]
  },
  {
   "cell_type": "code",
   "execution_count": 157,
   "metadata": {},
   "outputs": [
    {
     "data": {
      "text/html": [
       "<div>\n",
       "<style scoped>\n",
       "    .dataframe tbody tr th:only-of-type {\n",
       "        vertical-align: middle;\n",
       "    }\n",
       "\n",
       "    .dataframe tbody tr th {\n",
       "        vertical-align: top;\n",
       "    }\n",
       "\n",
       "    .dataframe thead th {\n",
       "        text-align: right;\n",
       "    }\n",
       "</style>\n",
       "<table border=\"1\" class=\"dataframe\">\n",
       "  <thead>\n",
       "    <tr style=\"text-align: right;\">\n",
       "      <th></th>\n",
       "      <th>word</th>\n",
       "      <th>pct_in_good</th>\n",
       "      <th>pct_in_bad</th>\n",
       "      <th>difference</th>\n",
       "    </tr>\n",
       "  </thead>\n",
       "  <tbody>\n",
       "    <tr>\n",
       "      <th>366</th>\n",
       "      <td>asked</td>\n",
       "      <td>0.000450</td>\n",
       "      <td>0.002467</td>\n",
       "      <td>-0.002017</td>\n",
       "    </tr>\n",
       "    <tr>\n",
       "      <th>53</th>\n",
       "      <td>didn't</td>\n",
       "      <td>0.001778</td>\n",
       "      <td>0.003714</td>\n",
       "      <td>-0.001936</td>\n",
       "    </tr>\n",
       "    <tr>\n",
       "      <th>25</th>\n",
       "      <td>service</td>\n",
       "      <td>0.002209</td>\n",
       "      <td>0.003993</td>\n",
       "      <td>-0.001784</td>\n",
       "    </tr>\n",
       "    <tr>\n",
       "      <th>27</th>\n",
       "      <td>ordered</td>\n",
       "      <td>0.002157</td>\n",
       "      <td>0.003764</td>\n",
       "      <td>-0.001607</td>\n",
       "    </tr>\n",
       "    <tr>\n",
       "      <th>133</th>\n",
       "      <td>wasn't</td>\n",
       "      <td>0.001092</td>\n",
       "      <td>0.002594</td>\n",
       "      <td>-0.001503</td>\n",
       "    </tr>\n",
       "    <tr>\n",
       "      <th>46</th>\n",
       "      <td>order</td>\n",
       "      <td>0.001818</td>\n",
       "      <td>0.003218</td>\n",
       "      <td>-0.001399</td>\n",
       "    </tr>\n",
       "    <tr>\n",
       "      <th>255</th>\n",
       "      <td>said</td>\n",
       "      <td>0.000620</td>\n",
       "      <td>0.001984</td>\n",
       "      <td>-0.001364</td>\n",
       "    </tr>\n",
       "    <tr>\n",
       "      <th>280</th>\n",
       "      <td>customer</td>\n",
       "      <td>0.000579</td>\n",
       "      <td>0.001933</td>\n",
       "      <td>-0.001354</td>\n",
       "    </tr>\n",
       "    <tr>\n",
       "      <th>217</th>\n",
       "      <td>maybe</td>\n",
       "      <td>0.000715</td>\n",
       "      <td>0.002060</td>\n",
       "      <td>-0.001345</td>\n",
       "    </tr>\n",
       "    <tr>\n",
       "      <th>339</th>\n",
       "      <td>minutes</td>\n",
       "      <td>0.000490</td>\n",
       "      <td>0.001704</td>\n",
       "      <td>-0.001214</td>\n",
       "    </tr>\n",
       "  </tbody>\n",
       "</table>\n",
       "</div>"
      ],
      "text/plain": [
       "         word  pct_in_good  pct_in_bad  difference\n",
       "366     asked     0.000450    0.002467   -0.002017\n",
       "53     didn't     0.001778    0.003714   -0.001936\n",
       "25    service     0.002209    0.003993   -0.001784\n",
       "27    ordered     0.002157    0.003764   -0.001607\n",
       "133    wasn't     0.001092    0.002594   -0.001503\n",
       "46      order     0.001818    0.003218   -0.001399\n",
       "255      said     0.000620    0.001984   -0.001364\n",
       "280  customer     0.000579    0.001933   -0.001354\n",
       "217     maybe     0.000715    0.002060   -0.001345\n",
       "339   minutes     0.000490    0.001704   -0.001214"
      ]
     },
     "execution_count": 157,
     "metadata": {},
     "output_type": "execute_result"
    }
   ],
   "source": [
    "# These are the words that showed up most in bad reviews but not in good\n",
    "df.sort_values(by='difference')[:10]"
   ]
  },
  {
   "cell_type": "code",
   "execution_count": 158,
   "metadata": {},
   "outputs": [
    {
     "data": {
      "text/html": [
       "<div>\n",
       "<style scoped>\n",
       "    .dataframe tbody tr th:only-of-type {\n",
       "        vertical-align: middle;\n",
       "    }\n",
       "\n",
       "    .dataframe tbody tr th {\n",
       "        vertical-align: top;\n",
       "    }\n",
       "\n",
       "    .dataframe thead th {\n",
       "        text-align: right;\n",
       "    }\n",
       "</style>\n",
       "<table border=\"1\" class=\"dataframe\">\n",
       "  <thead>\n",
       "    <tr style=\"text-align: right;\">\n",
       "      <th></th>\n",
       "      <th>word</th>\n",
       "      <th>pct_in_good</th>\n",
       "      <th>pct_in_bad</th>\n",
       "      <th>difference</th>\n",
       "    </tr>\n",
       "  </thead>\n",
       "  <tbody>\n",
       "    <tr>\n",
       "      <th>6</th>\n",
       "      <td>check-ins</td>\n",
       "      <td>0.003430</td>\n",
       "      <td>0.001272</td>\n",
       "      <td>0.002158</td>\n",
       "    </tr>\n",
       "    <tr>\n",
       "      <th>2</th>\n",
       "      <td>friendly</td>\n",
       "      <td>0.003740</td>\n",
       "      <td>0.001666</td>\n",
       "      <td>0.002074</td>\n",
       "    </tr>\n",
       "    <tr>\n",
       "      <th>21</th>\n",
       "      <td>delicious</td>\n",
       "      <td>0.002449</td>\n",
       "      <td>0.000432</td>\n",
       "      <td>0.002016</td>\n",
       "    </tr>\n",
       "    <tr>\n",
       "      <th>22</th>\n",
       "      <td>favorite</td>\n",
       "      <td>0.002331</td>\n",
       "      <td>0.000623</td>\n",
       "      <td>0.001708</td>\n",
       "    </tr>\n",
       "    <tr>\n",
       "      <th>34</th>\n",
       "      <td>perfect</td>\n",
       "      <td>0.002047</td>\n",
       "      <td>0.000420</td>\n",
       "      <td>0.001627</td>\n",
       "    </tr>\n",
       "    <tr>\n",
       "      <th>16</th>\n",
       "      <td>super</td>\n",
       "      <td>0.002829</td>\n",
       "      <td>0.001374</td>\n",
       "      <td>0.001455</td>\n",
       "    </tr>\n",
       "    <tr>\n",
       "      <th>0</th>\n",
       "      <td>little</td>\n",
       "      <td>0.004536</td>\n",
       "      <td>0.003167</td>\n",
       "      <td>0.001369</td>\n",
       "    </tr>\n",
       "    <tr>\n",
       "      <th>5</th>\n",
       "      <td>latte</td>\n",
       "      <td>0.003500</td>\n",
       "      <td>0.002226</td>\n",
       "      <td>0.001274</td>\n",
       "    </tr>\n",
       "    <tr>\n",
       "      <th>10</th>\n",
       "      <td>iced</td>\n",
       "      <td>0.003242</td>\n",
       "      <td>0.002098</td>\n",
       "      <td>0.001143</td>\n",
       "    </tr>\n",
       "    <tr>\n",
       "      <th>39</th>\n",
       "      <td>gelato</td>\n",
       "      <td>0.001951</td>\n",
       "      <td>0.000814</td>\n",
       "      <td>0.001137</td>\n",
       "    </tr>\n",
       "  </tbody>\n",
       "</table>\n",
       "</div>"
      ],
      "text/plain": [
       "         word  pct_in_good  pct_in_bad  difference\n",
       "6   check-ins     0.003430    0.001272    0.002158\n",
       "2    friendly     0.003740    0.001666    0.002074\n",
       "21  delicious     0.002449    0.000432    0.002016\n",
       "22   favorite     0.002331    0.000623    0.001708\n",
       "34    perfect     0.002047    0.000420    0.001627\n",
       "16      super     0.002829    0.001374    0.001455\n",
       "0      little     0.004536    0.003167    0.001369\n",
       "5       latte     0.003500    0.002226    0.001274\n",
       "10       iced     0.003242    0.002098    0.001143\n",
       "39     gelato     0.001951    0.000814    0.001137"
      ]
     },
     "execution_count": 158,
     "metadata": {},
     "output_type": "execute_result"
    }
   ],
   "source": [
    "# These are the words that showed up most in good reviews but not in bad\n",
    "df.sort_values(by='difference', ascending=False)[:10]"
   ]
  },
  {
   "cell_type": "markdown",
   "metadata": {
    "colab_type": "text",
    "id": "1dCb1q8XphcP",
    "toc-hr-collapsed": true
   },
   "source": [
    "## Stretch Goals\n",
    "\n",
    "* Analyze another corpus of documents - such as Indeed.com job listings ;).\n",
    "* Play with the Spacy API to\n",
    " - Extract Named Entities\n",
    " - Extracting 'noun chunks'\n",
    " - Attempt Document Classification with just Spacy\n",
    " - *Note:* This [course](https://course.spacy.io/) will be of interesting in helping you with these stretch goals. \n",
    "* Try to build a plotly dash app with your text data \n",
    "\n"
   ]
  }
 ],
 "metadata": {
  "colab": {
   "collapsed_sections": [],
   "name": "LS_DS_421_Text_Data_Assignment.ipynb",
   "provenance": [],
   "version": "0.3.2"
  },
  "kernelspec": {
   "display_name": "U4-S1-NLP (Python3)",
   "language": "python",
   "name": "u4-s1-nlp"
  },
  "language_info": {
   "codemirror_mode": {
    "name": "ipython",
    "version": 3
   },
   "file_extension": ".py",
   "mimetype": "text/x-python",
   "name": "python",
   "nbconvert_exporter": "python",
   "pygments_lexer": "ipython3",
   "version": "3.7.0"
  },
  "toc-autonumbering": false
 },
 "nbformat": 4,
 "nbformat_minor": 4
}
